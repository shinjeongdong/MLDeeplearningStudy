{
  "nbformat": 4,
  "nbformat_minor": 0,
  "metadata": {
    "colab": {
      "provenance": [],
      "authorship_tag": "ABX9TyMx4q8BS0IJ1rySKfWmQdk2",
      "include_colab_link": true
    },
    "kernelspec": {
      "name": "python3",
      "display_name": "Python 3"
    },
    "language_info": {
      "name": "python"
    }
  },
  "cells": [
    {
      "cell_type": "markdown",
      "metadata": {
        "id": "view-in-github",
        "colab_type": "text"
      },
      "source": [
        "<a href=\"https://colab.research.google.com/github/shinjeongdong/MLDeeplearningStudy/blob/main/%EB%B0%91%EB%B0%94%EB%8B%A5_%EB%94%A5%EB%9F%AC%EB%8B%9D_2%EC%9E%A5_%ED%8D%BC%EC%85%89%ED%8A%B8%EB%A1%A0_%EB%85%BC%EB%A6%AC%EA%B2%8C%EC%9D%B4%ED%8A%B8_%EA%B5%AC%ED%98%84.ipynb\" target=\"_parent\"><img src=\"https://colab.research.google.com/assets/colab-badge.svg\" alt=\"Open In Colab\"/></a>"
      ]
    },
    {
      "cell_type": "code",
      "execution_count": null,
      "metadata": {
        "id": "SRAImEEC6cda"
      },
      "outputs": [],
      "source": [
        "import numpy as np\n",
        "\n",
        "#2025-05-12\n",
        "\n",
        "#논리게이트 구현 bais 임의값\n",
        "\n",
        "def AND(x1,x2):\n",
        "  x = np.array([x1,x2])\n",
        "  w = np.array([0.5,0.5])\n",
        "\n",
        "  tmp = np.sum(w*x)\n",
        "\n",
        "  if(1 <= tmp):\n",
        "    return 1\n",
        "  else:\n",
        "    return 0\n",
        "\n",
        "#NAND 구현\n",
        "\n",
        "def NAND(x1,x2):\n",
        "  x = np.array([x1,x2])\n",
        "  w = np.array([0.5,0.5])\n",
        "  b = 0.7\n",
        "\n",
        "  tmp = np.sum(x*w) + b\n",
        "\n",
        "  if(tmp <= 1.2):\n",
        "    return 1\n",
        "  else:\n",
        "    return 0\n",
        "\n",
        "\n",
        "def OR(x1,x2):\n",
        "  x = np.array([x1,x2])\n",
        "  w = np.array([0.5,0.5])\n",
        "  b = 0.3\n",
        "\n",
        "  tmp = np.sum(x*w) + b\n",
        "\n",
        "  if(tmp == 0.3):\n",
        "    return 0\n",
        "  else:\n",
        "    return 1\n",
        "\n",
        "#xor 같으면 0출력\n",
        "\n",
        "def XOR(x1,x2):\n",
        "  s1 = NAND(x1,x2)\n",
        "  s2 = OR(x1,x2)\n",
        "  return AND(s1,s2)"
      ]
    }
  ]
}