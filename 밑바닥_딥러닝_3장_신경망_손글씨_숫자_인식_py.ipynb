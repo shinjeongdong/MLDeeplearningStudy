{
  "nbformat": 4,
  "nbformat_minor": 0,
  "metadata": {
    "colab": {
      "provenance": [],
      "mount_file_id": "1eslC6OFPL4WIVDTTSWm5YB-L8XQScHj6",
      "authorship_tag": "ABX9TyOZ4kCKRjWz1EqUG9Vm/SU7",
      "include_colab_link": true
    },
    "kernelspec": {
      "name": "python3",
      "display_name": "Python 3"
    },
    "language_info": {
      "name": "python"
    }
  },
  "cells": [
    {
      "cell_type": "markdown",
      "metadata": {
        "id": "view-in-github",
        "colab_type": "text"
      },
      "source": [
        "<a href=\"https://colab.research.google.com/github/shinjeongdong/MLDeeplearningStudy/blob/main/%EB%B0%91%EB%B0%94%EB%8B%A5_%EB%94%A5%EB%9F%AC%EB%8B%9D_3%EC%9E%A5_%EC%8B%A0%EA%B2%BD%EB%A7%9D_%EC%86%90%EA%B8%80%EC%94%A8_%EC%88%AB%EC%9E%90_%EC%9D%B8%EC%8B%9D_py.ipynb\" target=\"_parent\"><img src=\"https://colab.research.google.com/assets/colab-badge.svg\" alt=\"Open In Colab\"/></a>"
      ]
    },
    {
      "cell_type": "code",
      "execution_count": 29,
      "metadata": {
        "id": "psYufCHALz8v"
      },
      "outputs": [],
      "source": [
        "#손글씨 숫자 인식\n",
        "#2025-05-14\n",
        "import numpy as np\n",
        "import importlib\n",
        "import sys\n",
        "import pickle\n",
        "importlib.invalidate_caches()\n",
        "sys.path.append('/content/drive/MyDrive/dataset')"
      ]
    },
    {
      "cell_type": "code",
      "source": [
        "from mnist import load_mnist\n",
        "(x_train, t_train), (x_test, t_test) = load_mnist(flatten=True,normalize=False)"
      ],
      "metadata": {
        "id": "dyUnyV6-MAFz"
      },
      "execution_count": 30,
      "outputs": []
    },
    {
      "cell_type": "code",
      "source": [
        "print(x_train.shape) # 784개의 픽셀의 가진 이미지 6만개 학습용 데이터\n",
        "print(t_train.shape) # 그에 대응 되는 정답 데이터 6만개.\n",
        "print(x_test.shape) #여긴 테스트 데이터 1만개\n",
        "print(t_test.shape)"
      ],
      "metadata": {
        "id": "2VXFvLzNMCGK",
        "colab": {
          "base_uri": "https://localhost:8080/"
        },
        "outputId": "72864aa3-58bb-4eb4-9b89-826700da1c24"
      },
      "execution_count": 31,
      "outputs": [
        {
          "output_type": "stream",
          "name": "stdout",
          "text": [
            "(60000, 784)\n",
            "(60000,)\n",
            "(10000, 784)\n",
            "(10000,)\n"
          ]
        }
      ]
    },
    {
      "cell_type": "code",
      "source": [
        "#테스트 이미지 불러오기\n",
        "import matplotlib.pyplot as plt\n",
        "\n",
        "def img_show(img):\n",
        "    plt.imshow(img, cmap='gray')\n",
        "    plt.axis('off')\n",
        "    plt.show()\n",
        "\n",
        "img = x_train[0]\n",
        "label = t_train[0]\n",
        "print(label)\n",
        "\n",
        "print(img.shape)\n",
        "img = img.reshape(28,28) #  1차원 배열인 이미지 배열 784개의 픽셀을 28x28로 재구성\n",
        "print(img.shape)\n",
        "\n",
        "img_show(img)"
      ],
      "metadata": {
        "colab": {
          "base_uri": "https://localhost:8080/",
          "height": 461
        },
        "id": "yu4nImyjTH61",
        "outputId": "362f2af5-090d-44e5-af44-29548355aef3"
      },
      "execution_count": 32,
      "outputs": [
        {
          "output_type": "stream",
          "name": "stdout",
          "text": [
            "5\n",
            "(784,)\n",
            "(28, 28)\n"
          ]
        },
        {
          "output_type": "display_data",
          "data": {
            "text/plain": [
              "<Figure size 640x480 with 1 Axes>"
            ],
            "image/png": "[encoded data removed]"
          },
          "metadata": {}
        }
      ]
    },
    {
      "cell_type": "code",
      "source": [
        "from actfunc import sigmoid, softmax #우리가 구현 했던 sigmoid, softmax 함수 불러오기\n",
        "\n",
        "def get_data():\n",
        "  (x_train, t_train), (x_test, t_test) = load_mnist(flatten=True,normalize=True,one_hot_label=False)\n",
        "  return x_test, t_test\n",
        "#정규화를 True로 하면 0~255사이의 값이던 픽셀이 0.0~1.0로 정규화된다.\n",
        "def init_network():\n",
        "  with open(\"/content/drive/MyDrive/dataset/sample_weight.pkl\",'rb') as f: #이미 학습된 가중치와 편향이 저장되있음\n",
        "    network = pickle.load(f)\n",
        "\n",
        "    return network\n",
        "\n",
        "\n",
        "def predict(network, x):\n",
        "  W1, W2, W3 = network['W1'], network['W2'],network['W3']\n",
        "  b1, b2, b3 = network['b1'], network['b2'], network['b3']\n",
        "\n",
        "  a1 = np.dot(x,W1) + b1\n",
        "  z1 = sigmoid(a1)\n",
        "  a2 = np.dot(z1,W2) + b2\n",
        "  z2 = sigmoid(a2)\n",
        "  a3 = np.dot(z2,W3) + b3\n",
        "\n",
        "  y = softmax(a3)\n",
        "  return y\n",
        "\n",
        "\n",
        "a = init_network()"
      ],
      "metadata": {
        "id": "hKbT97XVU9cl"
      },
      "execution_count": 33,
      "outputs": []
    },
    {
      "cell_type": "code",
      "source": [
        "#신경망 추론 및 정확도 평가\n",
        "x, t = get_data()\n",
        "network = init_network()\n",
        "\n",
        "accuracy_cnt = 0\n",
        "for i in range(len(x)):\n",
        "  y = predict(network,x[i]) # 리턴값은 각 원소일 확률 값\n",
        "  p = np.argmax(y) # 확률이 가장 높은 원소의 인덱스를 얻는다.\n",
        "  if p == t[i]:\n",
        "    accuracy_cnt += 1\n",
        "\n",
        "print(\"정확도:\"+str(float(accuracy_cnt)/len(x))) #정확도:0.9352"
      ],
      "metadata": {
        "colab": {
          "base_uri": "https://localhost:8080/"
        },
        "id": "jtLvXpNoe5c-",
        "outputId": "4f471fb0-6e1a-4a54-aa41-ca8092fd3b54"
      },
      "execution_count": 34,
      "outputs": [
        {
          "output_type": "stream",
          "name": "stdout",
          "text": [
            "정확도:0.9352\n"
          ]
        }
      ]
    },
    {
      "cell_type": "code",
      "source": [
        "#2025-05-16\n",
        "#가중치 매개변수의 형상\n",
        "\n",
        "print(x.shape) #1차원 784 픽셀 데이터가 만개 있음\n",
        "print(x[0].shape) # 한행에 784개의 픽셀 데이터\n",
        "print(network['W1'].shape)\n",
        "print(network['W2'].shape)\n",
        "print(network['W3'].shape)\n",
        "\n",
        "#신경망 각 층의 배열 형상 = 784(입력값) 784 X 50  50 X 100  100 X 10     원소가 10개인 1차원 배열이 출력됨"
      ],
      "metadata": {
        "colab": {
          "base_uri": "https://localhost:8080/"
        },
        "id": "mH0Mh6CnblNK",
        "outputId": "8682313c-7da0-4404-834f-64654e34e176"
      },
      "execution_count": 35,
      "outputs": [
        {
          "output_type": "stream",
          "name": "stdout",
          "text": [
            "(10000, 784)\n",
            "(784,)\n",
            "(784, 50)\n",
            "(50, 100)\n",
            "(100, 10)\n"
          ]
        }
      ]
    },
    {
      "cell_type": "code",
      "source": [
        "#배치 처리 위 셀의 코드는 하나의 이미지를 입력했을때 처리의 흐름 그렇다면 이미지를 한번에 100장의 데이터를 넣을순 없을까?\n",
        "\n",
        "batch_size = 100 #배치 크기 한번에 100개의 데이터를 처리\n",
        "accuracy_cnt = 0\n",
        "\n",
        "for i in range(0, len(x), batch_size):\n",
        "  x_batch = x[i:i+batch_size]\n",
        "  y_batch = predict(network,x_batch)\n",
        "  p = np.argmax(y_batch, axis = 1) #100x10 배열에서 1차원을 구성하는 각 원소에서 최대값 인덱스를 찾는 것\n",
        "  accuracy_cnt += np.sum(p == t[i:i+batch_size])\n",
        "\n",
        "\n",
        "print(\"정확도:\"+str(float(accuracy_cnt)/len(x))) #정확도:0.9352\n",
        "\n"
      ],
      "metadata": {
        "colab": {
          "base_uri": "https://localhost:8080/"
        },
        "id": "flpVZvYifv9T",
        "outputId": "e1672017-761b-40ac-cca4-5cfdbdc07f30"
      },
      "execution_count": 36,
      "outputs": [
        {
          "output_type": "stream",
          "name": "stdout",
          "text": [
            "정확도:0.9352\n"
          ]
        }
      ]
    }
  ]
}